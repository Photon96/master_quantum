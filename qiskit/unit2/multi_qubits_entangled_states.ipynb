{
 "cells": [
  {
   "cell_type": "markdown",
   "metadata": {},
   "source": [
    "__Exercise 1__\n",
    "\n",
    "1. Write down the tensor product of the qubits:\n",
    "    * |0⟩|1⟩\n",
    "    * |0⟩|+⟩\n",
    "    * |+⟩|1⟩\n",
    "    * |−⟩|+⟩\n",
    "2. Write the state: $|\\psi⟩=\\frac{1}{\\sqrt2}|00⟩+\\frac{i}{\\sqrt2}|01⟩$ as two separate qubits"
   ]
  },
  {
   "cell_type": "markdown",
   "metadata": {},
   "source": [
    "__Answers__\n",
    "\n",
    "$|0\\rangle|1\\rangle = \\begin{bmatrix} \n",
    "                        1 \\times \\begin{bmatrix} 0 \\\\ 1 \\end{bmatrix} \\\\ \n",
    "                        0 \\times \\begin{bmatrix} 0 \\\\ 1 \\end{bmatrix} \n",
    "                        \\end{bmatrix}\n",
    "                        = \\begin{bmatrix} 0 \\\\ 1 \\\\ 0 \\\\ 0 \\end{bmatrix} $\n",
    "                        \n",
    "$|0\\rangle|+\\rangle = \\begin{bmatrix} \n",
    "                        1 \\times \\frac{1}{\\sqrt2}\\begin{bmatrix} 1 \\\\ 1 \\end{bmatrix} \\\\ \n",
    "                        0 \\times \\frac{1}{\\sqrt2}\\begin{bmatrix} 1 \\\\ 1 \\end{bmatrix} \n",
    "                        \\end{bmatrix}\n",
    "                        = \\frac{1}{\\sqrt2}\\begin{bmatrix} 1 \\\\ 1 \\\\ 0 \\\\ 0 \\end{bmatrix} $\n",
    "                        \n",
    "$|+\\rangle|1\\rangle = \\frac{1}{\\sqrt2}\\begin{bmatrix} \n",
    "                        1 \\times \\begin{bmatrix} 0 \\\\ 1 \\end{bmatrix} \\\\ \n",
    "                        1 \\times \\begin{bmatrix} 0 \\\\ 1 \\end{bmatrix} \n",
    "                        \\end{bmatrix}\n",
    "                        = \\frac{1}{\\sqrt2}\\begin{bmatrix} 0 \\\\ 1 \\\\ 0 \\\\ 1 \\end{bmatrix} $\n",
    "\n",
    "$|-\\rangle|+\\rangle = \\frac{1}{\\sqrt2}\\begin{bmatrix} \n",
    "                        1 \\times \\frac{1}{\\sqrt2}\\begin{bmatrix}   1 \\\\ 1 \\end{bmatrix} \\\\ \n",
    "                        -1 \\times \\frac{1}{\\sqrt2}\\begin{bmatrix}  1 \\\\ 1 \\end{bmatrix} \n",
    "                        \\end{bmatrix}\n",
    "                        = \\frac{1}{2}\\begin{bmatrix} 1 \\\\ 1 \\\\ -1 \\\\ -1 \\end{bmatrix} $"
   ]
  },
  {
   "cell_type": "markdown",
   "metadata": {},
   "source": [
    "$\\frac{1}{\\sqrt2}|00⟩+\\frac{i}{\\sqrt2}|01⟩ = |0\\rangle \\frac{1}{\\sqrt2}\\begin{bmatrix} 1 \\\\ i \\end{bmatrix}$"
   ]
  },
  {
   "cell_type": "code",
   "execution_count": 3,
   "metadata": {},
   "outputs": [
    {
     "data": {
      "text/latex": [
       "$\\displaystyle \n",
       "\\text{Statevector} = \\begin{bmatrix}\n",
       "\\tfrac{1}{\\sqrt{2}} \\\\\n",
       "0 \\\\\n",
       "\\tfrac{1}{\\sqrt{2}}i \\\\\n",
       "0\n",
       "\\end{bmatrix}\n",
       "$"
      ],
      "text/plain": [
       "<IPython.core.display.Math object>"
      ]
     },
     "metadata": {},
     "output_type": "display_data"
    }
   ],
   "source": [
    "from qiskit import QuantumCircuit, execute, Aer\n",
    "from qiskit_textbook.tools import array_to_latex\n",
    "from math import sqrt\n",
    "qc = QuantumCircuit(2)\n",
    "qc.initialize([1/sqrt(2), 1j/sqrt(2)], 1)\n",
    "qc.draw()\n",
    "\n",
    "backend = Aer.get_backend('statevector_simulator')\n",
    "statevector = execute(qc, backend).result().get_statevector()\n",
    "array_to_latex(statevector, pretext=\"\\\\text{Statevector} = \")"
   ]
  },
  {
   "cell_type": "markdown",
   "metadata": {},
   "source": [
    "__Exercise 2__\n",
    "\n",
    "1. Calculate the single qubit unitary (U) created by the sequence of gates: U=XZH. Use Qiskit's unitary simulator to check your results.\n",
    "2. Try changing the gates in the circuit above. Calculate their tensor product, and then check your answer using the unitary simulator."
   ]
  },
  {
   "cell_type": "markdown",
   "metadata": {},
   "source": [
    "__Answers__\n",
    "\n",
    "$U = XZH = X\\begin{bmatrix} 1 \\times H & 0 \\times H \\\\ 0 \\times H & -1 \\times H \\end{bmatrix} = \n",
    "\\begin{bmatrix} 0 \\times \\begin{bmatrix} 1 \\times H & 0 \\times H \\\\ 0 \\times H & -1 \\times H \\end{bmatrix} & 1 \\times \\begin{bmatrix} 1 \\times H & 0 \\times H \\\\ 0 \\times H & -1 \\times H \\end{bmatrix} \\\\\n",
    "1 \\times \\begin{bmatrix} 1 \\times H & 0 \\times H \\\\ 0 \\times H & -1 \\times H \\end{bmatrix} &\n",
    "0 \\times \\begin{bmatrix} 1 \\times H & 0 \\times H \\\\ 0 \\times H & -1 \\times H \\end{bmatrix} \\end{bmatrix}\n",
    "$"
   ]
  },
  {
   "cell_type": "code",
   "execution_count": 6,
   "metadata": {},
   "outputs": [
    {
     "data": {
      "text/latex": [
       "$\\displaystyle \n",
       "\\text{XZH = }\\begin{bmatrix}\n",
       "0 & 0 & 0 & 0 & \\tfrac{1}{\\sqrt{2}} & \\tfrac{1}{\\sqrt{2}} & 0 & 0  \\\\\n",
       "0 & 0 & 0 & 0 & \\tfrac{1}{\\sqrt{2}} & -\\tfrac{1}{\\sqrt{2}} & 0 & 0  \\\\\n",
       "0 & 0 & 0 & 0 & 0 & 0 & -\\tfrac{1}{\\sqrt{2}} & -\\tfrac{1}{\\sqrt{2}}  \\\\\n",
       "0 & 0 & 0 & 0 & 0 & 0 & -\\tfrac{1}{\\sqrt{2}} & \\tfrac{1}{\\sqrt{2}}  \\\\\n",
       "\\tfrac{1}{\\sqrt{2}} & \\tfrac{1}{\\sqrt{2}} & 0 & 0 & 0 & 0 & 0 & 0  \\\\\n",
       "\\tfrac{1}{\\sqrt{2}} & -\\tfrac{1}{\\sqrt{2}} & 0 & 0 & 0 & 0 & 0 & 0  \\\\\n",
       "0 & 0 & -\\tfrac{1}{\\sqrt{2}} & -\\tfrac{1}{\\sqrt{2}} & 0 & 0 & 0 & 0  \\\\\n",
       "0 & 0 & -\\tfrac{1}{\\sqrt{2}} & \\tfrac{1}{\\sqrt{2}} & 0 & 0 & 0 & 0  \\\\\n",
       "\\end{bmatrix}\n",
       "$$\n",
       "$"
      ],
      "text/plain": [
       "<IPython.core.display.Math object>"
      ]
     },
     "metadata": {},
     "output_type": "display_data"
    }
   ],
   "source": [
    "from qiskit import QuantumCircuit, execute, Aer\n",
    "from qiskit_textbook.tools import array_to_latex\n",
    "from math import sqrt\n",
    "qc = QuantumCircuit(3)\n",
    "qc.h(0)\n",
    "qc.z(1)\n",
    "qc.x(2)\n",
    "\n",
    "backend = Aer.get_backend('unitary_simulator')\n",
    "unitary = execute(qc, backend).result().get_unitary()\n",
    "array_to_latex(unitary, pretext=\"\\\\text{XZH = }\")"
   ]
  },
  {
   "cell_type": "markdown",
   "metadata": {},
   "source": [
    "__Exercise 3__\n",
    "\n",
    "1. Create a quantum circuit that produces the Bell state: $\\frac{1}{\\sqrt2}$(|01⟩+|10⟩). Use the statevector simulator to verify your result.\n",
    "\n",
    "2. The circuit you created in question 1 transforms the state |00⟩ to $\\frac{1}{\\sqrt2}$(|01⟩+|10⟩), calculate the unitary of this circuit using Qiskit's simulator. Verify this unitary does in fact perform the correct transformation."
   ]
  },
  {
   "cell_type": "markdown",
   "metadata": {},
   "source": [
    "__Answers__"
   ]
  },
  {
   "cell_type": "code",
   "execution_count": 15,
   "metadata": {},
   "outputs": [
    {
     "data": {
      "text/latex": [
       "$\\displaystyle \n",
       "\\text{Bell state = }\\begin{bmatrix}\n",
       "0 \\\\\n",
       "\\tfrac{1}{\\sqrt{2}} \\\\\n",
       "\\tfrac{1}{\\sqrt{2}} \\\\\n",
       "0\n",
       "\\end{bmatrix}\n",
       "$"
      ],
      "text/plain": [
       "<IPython.core.display.Math object>"
      ]
     },
     "metadata": {},
     "output_type": "display_data"
    }
   ],
   "source": [
    "from qiskit import QuantumCircuit, execute, Aer\n",
    "from qiskit_textbook.tools import array_to_latex\n",
    "from math import sqrt\n",
    "\n",
    "qc = QuantumCircuit(2)\n",
    "qc.h(0)\n",
    "qc.x(1)\n",
    "#apply CNOT(control, target)\n",
    "qc.cx(0, 1)\n",
    "backend = Aer.get_backend('statevector_simulator')\n",
    "statevector = execute(qc, backend).result().get_statevector()\n",
    "array_to_latex(statevector, pretext=\"\\\\text{Bell state = }\")"
   ]
  },
  {
   "cell_type": "code",
   "execution_count": 16,
   "metadata": {},
   "outputs": [
    {
     "data": {
      "text/latex": [
       "$\\displaystyle \n",
       "\\text{Unitary = }\\begin{bmatrix}\n",
       "0 & 0 & \\tfrac{1}{\\sqrt{2}} & \\tfrac{1}{\\sqrt{2}}  \\\\\n",
       "\\tfrac{1}{\\sqrt{2}} & -\\tfrac{1}{\\sqrt{2}} & 0 & 0  \\\\\n",
       "\\tfrac{1}{\\sqrt{2}} & \\tfrac{1}{\\sqrt{2}} & 0 & 0  \\\\\n",
       "0 & 0 & \\tfrac{1}{\\sqrt{2}} & -\\tfrac{1}{\\sqrt{2}}  \\\\\n",
       "\\end{bmatrix}\n",
       "$$\n",
       "$"
      ],
      "text/plain": [
       "<IPython.core.display.Math object>"
      ]
     },
     "metadata": {},
     "output_type": "display_data"
    }
   ],
   "source": [
    "backend = Aer.get_backend('unitary_simulator')\n",
    "unitary = execute(qc, backend).result().get_unitary()\n",
    "array_to_latex(unitary, pretext=\"\\\\text{Unitary = }\")"
   ]
  },
  {
   "cell_type": "markdown",
   "metadata": {},
   "source": [
    "$\\begin{bmatrix}1 \\\\ 0 \\\\ 0 \\\\ 0 \\end{bmatrix} U = 1 $"
   ]
  }
 ],
 "metadata": {
  "kernelspec": {
   "display_name": "Python 3",
   "language": "python",
   "name": "python3"
  },
  "language_info": {
   "codemirror_mode": {
    "name": "ipython",
    "version": 3
   },
   "file_extension": ".py",
   "mimetype": "text/x-python",
   "name": "python",
   "nbconvert_exporter": "python",
   "pygments_lexer": "ipython3",
   "version": "3.8.2"
  }
 },
 "nbformat": 4,
 "nbformat_minor": 4
}
