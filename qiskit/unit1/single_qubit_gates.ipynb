{
 "cells": [
  {
   "cell_type": "markdown",
   "metadata": {},
   "source": [
    "### Single Qubit Gates"
   ]
  },
  {
   "cell_type": "markdown",
   "metadata": {},
   "source": [
    "__Exercise 1__\n",
    "1. Verify that |+⟩ and |−⟩ are in fact eigenstates of the X-gate.\n",
    "2. What eigenvalues do they have?\n",
    "3. Why would we not see these eigenvalues appear on the Bloch sphere?\n",
    "4. Find the eigenstates of the Y-gate, and their co-ordinates on the Bloch sphere."
   ]
  },
  {
   "cell_type": "markdown",
   "metadata": {},
   "source": [
    "__Answers__\n",
    "\n",
    "$ X = \\begin{pmatrix}\n",
    "    0 & 1 \\\\\n",
    "    1 & 0 \\\\\n",
    "    \\end{pmatrix},Y = \\begin{pmatrix}\n",
    "    0 &-i \\\\\n",
    "    i &0 \\\\\n",
    "    \\end{pmatrix}, |+⟩ = \\frac{1}{\\sqrt2} \\begin{pmatrix}\n",
    "    1 \\\\\n",
    "    1 \\\\\n",
    "    \\end{pmatrix}, |-⟩ = \\frac{1}{\\sqrt2} \\begin{pmatrix}\n",
    "    1 \\\\\n",
    "    -1 \\\\\n",
    "    \\end{pmatrix}\n",
    "$\n",
    "\n",
    "1) and 2)\n",
    "\n",
    "$X|+⟩ =  \\frac{1}{\\sqrt2} \\begin{pmatrix}\n",
    "    1 \\\\\n",
    "    1 \\\\\n",
    "    \\end{pmatrix}, \\lambda = 1$\n",
    "    \n",
    "$X|-⟩ =  \\frac{1}{\\sqrt2} \\begin{pmatrix}\n",
    "    -1 \\\\\n",
    "    1 \\\\\n",
    "    \\end{pmatrix}, \\lambda = -1$\n",
    "    \n",
    "4)  \n",
    "\n",
    "$det(\\begin{pmatrix}\n",
    "    -\\lambda &-i \\\\\n",
    "    i &-\\lambda \\\\\n",
    "    \\end{pmatrix}) = \\lambda^2 - 1 = (\\lambda - 1)(\\lambda + 1)$\n",
    "    \n",
    "for $\\lambda = 1$    \n",
    "\n",
    "$ -ix = y \\land iy = x  => x = i, y = 1$\n",
    "\n",
    "after normalization: $x = \\frac{i}{\\sqrt2}$, $y=\\frac{1}{\\sqrt{2}}$\n",
    "\n",
    "for $\\lambda = -1$\n",
    "\n",
    "$ ix = y \\land iy = -x  => x = i, y = -1$\n",
    "\n",
    "after normalization: $x = \\frac{i}{\\sqrt2}$, $y=-\\frac{1}{\\sqrt{2}}$"
   ]
  },
  {
   "cell_type": "markdown",
   "metadata": {},
   "source": [
    "__Different basis__\n",
    "\n",
    "1. Z-basis: $|0\\rangle$, $|1 \\rangle$\n",
    "2. X-basis: $|+\\rangle$, $|-\\rangle$\n",
    "3. Y-basis: $|\\circlearrowleft \\rangle = \\frac{1}{\\sqrt2} \\begin{pmatrix}\n",
    "    i \\\\\n",
    "    1 \\\\\n",
    "    \\end{pmatrix}$, $|\\circlearrowright \\rangle = \\frac{1}{\\sqrt2} \\begin{pmatrix}\n",
    "    i \\\\\n",
    "    -1 \\\\\n",
    "    \\end{pmatrix}$  (from above exercise)  \n"
   ]
  },
  {
   "cell_type": "markdown",
   "metadata": {},
   "source": [
    "__Exercise 2__\n",
    "1. Write the H-gate as the outer products of vectors |0⟩, |1⟩, |+⟩ and |−⟩.\n",
    "2. Show that applying the sequence of gates: HZH, to any qubit state is equivalent to applying an X-gate.\n",
    "3. Find a combination of X, Z and H-gates that is equivalent to a Y-gate (ignoring global phase)."
   ]
  },
  {
   "cell_type": "markdown",
   "metadata": {},
   "source": [
    "__Answers__\n",
    "\n",
    "1) $H = |0⟩⟨+| + |1⟩⟨-| = \\begin{pmatrix}\n",
    "    1  \\\\\n",
    "    0  \\\\\n",
    "    \\end{pmatrix} \n",
    "    \\frac{1}{\\sqrt2} \\begin{pmatrix}\n",
    "    1 & 1 \\\\\n",
    "    \\end{pmatrix} + \n",
    "    \\begin{pmatrix}\n",
    "    0  \\\\\n",
    "    1  \\\\\n",
    "    \\end{pmatrix} \n",
    "    \\frac{1}{\\sqrt2} \\begin{pmatrix}\n",
    "    1 & -1 \\\\\n",
    "    \\end{pmatrix} = \n",
    "    \\frac{1}{\\sqrt2} \\begin{pmatrix}\n",
    "    1 & 1 \\\\\n",
    "    0 & 0 \\\\\n",
    "    \\end{pmatrix} + \n",
    "    \\frac{1}{\\sqrt2} \\begin{pmatrix}\n",
    "    0 & 0 \\\\\n",
    "    1 & -1 \\\\\n",
    "    \\end{pmatrix} = \n",
    "    \\frac{1}{\\sqrt2} \\begin{pmatrix}\n",
    "    1 & 1 \\\\\n",
    "    1 & -1 \\\\\n",
    "    \\end{pmatrix}\n",
    "    $\n",
    "\n",
    "2) $HZH = \\frac{1}{\\sqrt{2}} \n",
    "\\begin{pmatrix}\n",
    "    1 & 1 \\\\\n",
    "    1 & -1 \\\\\n",
    "    \\end{pmatrix} \n",
    "    \\begin{pmatrix}\n",
    "    1 & 0 \\\\\n",
    "    0 & -1 \\\\\n",
    "    \\end{pmatrix} \n",
    "    \\frac{1}{\\sqrt{2}}\n",
    "    \\begin{pmatrix}\n",
    "    1 & 1 \\\\\n",
    "    1 & -1 \\\\\n",
    "    \\end{pmatrix} = \n",
    "    \\frac{1}{\\sqrt{2}} \n",
    "\\begin{pmatrix}\n",
    "    1 & 1 \\\\\n",
    "    1 & -1 \\\\\n",
    "    \\end{pmatrix} \n",
    "    \\frac{1}{\\sqrt{2}}\n",
    "    \\begin{pmatrix}\n",
    "    1 & 1 \\\\\n",
    "    -1 & 1 \\\\\n",
    "    \\end{pmatrix} =\n",
    "    \\frac{1}{2} \\begin{pmatrix}\n",
    "    0 & 2 \\\\\n",
    "    2 & 0 \\\\\n",
    "    \\end{pmatrix} = \n",
    "    \\begin{pmatrix}\n",
    "    0 & 1 \\\\\n",
    "    1 & 0 \\\\\n",
    "    \\end{pmatrix} = X\n",
    "    $"
   ]
  },
  {
   "cell_type": "markdown",
   "metadata": {},
   "source": [
    "__Exercise 3__\n",
    "\n",
    "1. If we initialise our qubit in the state |+⟩, what is the probability of measuring it in state |−⟩?\n",
    "2. Use Qiskit to display the probability of measuring a |0⟩ qubit in the states |+⟩ and |−⟩\n",
    "3. Try to create a function that measures in the Y-basis."
   ]
  },
  {
   "cell_type": "markdown",
   "metadata": {},
   "source": [
    "$\\psi = |+⟩, p(|−⟩) = |⟨-|\\psi⟩|^2 = 0$"
   ]
  },
  {
   "cell_type": "code",
   "execution_count": 16,
   "metadata": {},
   "outputs": [
    {
     "data": {
      "text/html": [
       "<pre style=\"word-wrap: normal;white-space: pre;background: #fff0;line-height: 1.1;font-family: &quot;Courier New&quot;,Courier,monospace\">     ┌───┐┌─┐\n",
       "q_0: ┤ H ├┤M├\n",
       "     └───┘└╥┘\n",
       "c: 1/══════╩═\n",
       "           0 </pre>"
      ],
      "text/plain": [
       "     ┌───┐┌─┐\n",
       "q_0: ┤ H ├┤M├\n",
       "     └───┘└╥┘\n",
       "c: 1/══════╩═\n",
       "           0 "
      ]
     },
     "execution_count": 16,
     "metadata": {},
     "output_type": "execute_result"
    }
   ],
   "source": [
    "from qiskit import execute, QuantumCircuit, Aer\n",
    "from qiskit.visualization import plot_histogram\n",
    "\n",
    "qc = QuantumCircuit(1, 1)\n",
    "#gc.x(0)\n",
    "qc.h(0) #H|0> = |+>, H|1> = |->\n",
    "qc.measure(0, 0) #qubit_0 -> cbit_0\n",
    "qc.draw()"
   ]
  },
  {
   "cell_type": "code",
   "execution_count": 18,
   "metadata": {},
   "outputs": [
    {
     "data": {
      "image/png": "[encoded data removed]",
      "text/plain": [
       "<Figure size 504x360 with 1 Axes>"
      ]
     },
     "execution_count": 18,
     "metadata": {},
     "output_type": "execute_result"
    }
   ],
   "source": [
    "backend = Aer.get_backend('qasm_simulator')\n",
    "counts = execute(qc, backend).result().get_counts()\n",
    "plot_histogram(counts)"
   ]
  },
  {
   "cell_type": "code",
   "execution_count": null,
   "metadata": {},
   "outputs": [],
   "source": []
  }
 ],
 "metadata": {
  "kernelspec": {
   "display_name": "Python 3",
   "language": "python",
   "name": "python3"
  },
  "language_info": {
   "codemirror_mode": {
    "name": "ipython",
    "version": 3
   },
   "file_extension": ".py",
   "mimetype": "text/x-python",
   "name": "python",
   "nbconvert_exporter": "python",
   "pygments_lexer": "ipython3",
   "version": "3.8.2"
  }
 },
 "nbformat": 4,
 "nbformat_minor": 4
}
