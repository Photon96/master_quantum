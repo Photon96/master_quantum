{
 "cells": [
  {
   "cell_type": "markdown",
   "metadata": {},
   "source": [
    "### Half adder algorithm"
   ]
  },
  {
   "cell_type": "code",
   "execution_count": 44,
   "metadata": {},
   "outputs": [],
   "source": [
    "from qiskit import QuantumCircuit, execute"
   ]
  },
  {
   "cell_type": "code",
   "execution_count": 45,
   "metadata": {},
   "outputs": [],
   "source": [
    "def half_adder(a = 0, b = 0):\n",
    "    #define quantum circuit with 4 qubits and 2 bits\n",
    "    qc = QuantumCircuit(4, 2)\n",
    "    \n",
    "    #1) encode input\n",
    "    if a == 1:\n",
    "        #set qubit_0 to 1\n",
    "        qc.x(0)\n",
    "    if b == 1:\n",
    "        #set qubit_0 to 1\n",
    "        qc.x(1)\n",
    "    \n",
    "    qc.barrier()\n",
    "    \n",
    "    #2) perform operations\n",
    "    \n",
    "    #cx(control, target) is a CNOT gate\n",
    "    #CNOT(0, 2) & CNOT(1, 2) == XOR(0, 1) saved in qubit_2\n",
    "    qc.cx(0, 2)\n",
    "    qc.cx(1, 2)\n",
    "    \n",
    "    #ccx() is a Tofolli gate\n",
    "    #Tofolli(qubit_1, qubit_2, qubit_3) == AND(qubit_1, qubit2) saved in qubit_3\n",
    "    qc.ccx(0, 1, 3)\n",
    "    qc.barrier()\n",
    "    \n",
    "    #3) extract outputs\n",
    "    #extract output of XOR to bit_0\n",
    "    qc.measure(2, 0) \n",
    "    #extract output of AND to bit_1\n",
    "    qc.measure(3, 1)\n",
    "    \n",
    "    qc.draw()\n",
    "    \n",
    "    backend = Aer.get_backend('qasm_simulator')\n",
    "    counts = execute(qc, backend).result().get_counts()\n",
    "    result = counts.most_frequent()\n",
    "    print(f\"0b{a} + 0b{b} = 0b{result}\")\n",
    "    return qc"
   ]
  },
  {
   "cell_type": "code",
   "execution_count": 46,
   "metadata": {},
   "outputs": [
    {
     "name": "stdout",
     "output_type": "stream",
     "text": [
      "0b1 + 0b1 = 0b10\n"
     ]
    },
    {
     "data": {
      "text/html": [
       "<pre style=\"word-wrap: normal;white-space: pre;background: #fff0;line-height: 1.1;font-family: &quot;Courier New&quot;,Courier,monospace\">     ┌───┐ ░                 ░       \n",
       "q_0: ┤ X ├─░───■─────────■───░───────\n",
       "     ├───┤ ░   │         │   ░       \n",
       "q_1: ┤ X ├─░───┼────■────■───░───────\n",
       "     └───┘ ░ ┌─┴─┐┌─┴─┐  │   ░ ┌─┐   \n",
       "q_2: ──────░─┤ X ├┤ X ├──┼───░─┤M├───\n",
       "           ░ └───┘└───┘┌─┴─┐ ░ └╥┘┌─┐\n",
       "q_3: ──────░───────────┤ X ├─░──╫─┤M├\n",
       "           ░           └───┘ ░  ║ └╥┘\n",
       "c: 2/═══════════════════════════╩══╩═\n",
       "                                0  1 </pre>"
      ],
      "text/plain": [
       "     ┌───┐ ░                 ░       \n",
       "q_0: ┤ X ├─░───■─────────■───░───────\n",
       "     ├───┤ ░   │         │   ░       \n",
       "q_1: ┤ X ├─░───┼────■────■───░───────\n",
       "     └───┘ ░ ┌─┴─┐┌─┴─┐  │   ░ ┌─┐   \n",
       "q_2: ──────░─┤ X ├┤ X ├──┼───░─┤M├───\n",
       "           ░ └───┘└───┘┌─┴─┐ ░ └╥┘┌─┐\n",
       "q_3: ──────░───────────┤ X ├─░──╫─┤M├\n",
       "           ░           └───┘ ░  ║ └╥┘\n",
       "c: 2/═══════════════════════════╩══╩═\n",
       "                                0  1 "
      ]
     },
     "execution_count": 46,
     "metadata": {},
     "output_type": "execute_result"
    }
   ],
   "source": [
    "qc = half_adder(1,1)\n",
    "qc.draw()"
   ]
  }
 ],
 "metadata": {
  "kernelspec": {
   "display_name": "Python 3",
   "language": "python",
   "name": "python3"
  },
  "language_info": {
   "codemirror_mode": {
    "name": "ipython",
    "version": 3
   },
   "file_extension": ".py",
   "mimetype": "text/x-python",
   "name": "python",
   "nbconvert_exporter": "python",
   "pygments_lexer": "ipython3",
   "version": "3.8.2"
  }
 },
 "nbformat": 4,
 "nbformat_minor": 4
}
